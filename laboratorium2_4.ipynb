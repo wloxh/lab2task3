{
  "nbformat": 4,
  "nbformat_minor": 0,
  "metadata": {
    "colab": {
      "provenance": [],
      "authorship_tag": "ABX9TyO/3aTFrGc5SVSHP0UlX7iD",
      "include_colab_link": true
    },
    "kernelspec": {
      "name": "python3",
      "display_name": "Python 3"
    },
    "language_info": {
      "name": "python"
    }
  },
  "cells": [
    {
      "cell_type": "markdown",
      "metadata": {
        "id": "view-in-github",
        "colab_type": "text"
      },
      "source": [
        "<a href=\"https://colab.research.google.com/github/wloxh/lab2task3/blob/lab2_task4/laboratorium2_4.ipynb\" target=\"_parent\"><img src=\"https://colab.research.google.com/assets/colab-badge.svg\" alt=\"Open In Colab\"/></a>"
      ]
    },
    {
      "cell_type": "code",
      "execution_count": 1,
      "metadata": {
        "id": "shBeX7rb30J-"
      },
      "outputs": [],
      "source": [
        "def celebrate():\n",
        "  print('woooooo!!!')\n",
        "  return\n",
        "\n",
        "if False:\n",
        "  celebrate()"
      ]
    }
  ]
}