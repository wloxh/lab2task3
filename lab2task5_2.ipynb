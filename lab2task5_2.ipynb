{
  "nbformat": 4,
  "nbformat_minor": 0,
  "metadata": {
    "colab": {
      "provenance": [],
      "authorship_tag": "ABX9TyN/fgOOP4i1J1I6SEdzI0dk",
      "include_colab_link": true
    },
    "kernelspec": {
      "name": "python3",
      "display_name": "Python 3"
    },
    "language_info": {
      "name": "python"
    }
  },
  "cells": [
    {
      "cell_type": "markdown",
      "metadata": {
        "id": "view-in-github",
        "colab_type": "text"
      },
      "source": [
        "<a href=\"https://colab.research.google.com/github/wloxh/lab2task3/blob/master/lab2task5_2.ipynb\" target=\"_parent\"><img src=\"https://colab.research.google.com/assets/colab-badge.svg\" alt=\"Open In Colab\"/></a>"
      ]
    },
    {
      "cell_type": "code",
      "source": [
        "!git config --global user.email 'wloxh1@gmail.com'"
      ],
      "metadata": {
        "id": "QbVvr_WG_3_J"
      },
      "execution_count": 13,
      "outputs": []
    },
    {
      "cell_type": "code",
      "source": [
        "!git clone https://github.com/wloxh/lab2task3/ temp"
      ],
      "metadata": {
        "colab": {
          "base_uri": "https://localhost:8080/"
        },
        "id": "aTZ0euhDApx9",
        "outputId": "967e5f9d-e30c-4550-bb49-f18b61f1b422"
      },
      "execution_count": 20,
      "outputs": [
        {
          "output_type": "stream",
          "name": "stdout",
          "text": [
            "Cloning into 'temp'...\n",
            "remote: Enumerating objects: 36, done.\u001b[K\n",
            "remote: Counting objects: 100% (36/36), done.\u001b[K\n",
            "remote: Compressing objects: 100% (34/34), done.\u001b[K\n",
            "remote: Total 36 (delta 15), reused 3 (delta 0), pack-reused 0\u001b[K\n",
            "Receiving objects: 100% (36/36), 8.03 KiB | 8.03 MiB/s, done.\n",
            "Resolving deltas: 100% (15/15), done.\n"
          ]
        }
      ]
    },
    {
      "cell_type": "code",
      "source": [
        "!ls"
      ],
      "metadata": {
        "colab": {
          "base_uri": "https://localhost:8080/"
        },
        "id": "GkkingrVAtj7",
        "outputId": "9d361391-b856-4c5d-c520-4fa74e387616"
      },
      "execution_count": 21,
      "outputs": [
        {
          "output_type": "stream",
          "name": "stdout",
          "text": [
            "__pycache__  sample_data  temp\tutilis.py\n"
          ]
        }
      ]
    },
    {
      "cell_type": "code",
      "source": [
        "!mv temp/lab2task5.py ."
      ],
      "metadata": {
        "id": "qTYiy9oEA4t7"
      },
      "execution_count": 23,
      "outputs": []
    },
    {
      "cell_type": "code",
      "source": [
        "from lab2task5 import isTriangle\n"
      ],
      "metadata": {
        "id": "t7Ml9B3dBdGN"
      },
      "execution_count": 29,
      "outputs": []
    },
    {
      "cell_type": "code",
      "source": [
        "import random\n",
        "a_s = [ random.random() for _ in range(100) ]\n",
        "b_s = [ random.random() for _ in range(100) ]\n",
        "c_s = [ random.random() for _ in range(100) ]\n",
        "\n",
        "ile = sum((isTriangle(a,b,c) for a, b, c in zip(a_s, b_s, c_s)))\n",
        "print(ile)"
      ],
      "metadata": {
        "colab": {
          "base_uri": "https://localhost:8080/"
        },
        "id": "cfvMGVaHBjgf",
        "outputId": "26b96393-4bbe-4db0-ae1a-949b35344b04"
      },
      "execution_count": 30,
      "outputs": [
        {
          "output_type": "stream",
          "name": "stdout",
          "text": [
            "56\n"
          ]
        }
      ]
    }
  ]
}